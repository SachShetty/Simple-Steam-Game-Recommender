{
 "cells": [
  {
   "cell_type": "code",
   "execution_count": 1,
   "id": "8ebd9611",
   "metadata": {},
   "outputs": [],
   "source": [
    "# Importing libraries\n",
    "\n",
    "import pandas as pd\n",
    "import numpy as np"
   ]
  },
  {
   "cell_type": "code",
   "execution_count": 2,
   "id": "160d2b9a",
   "metadata": {},
   "outputs": [],
   "source": [
    "# Reading csv file with features - Appid, Name, Categories, Genres, Developers\n",
    "\n",
    "prime = pd.read_csv(\"../DATA/steam.csv\")"
   ]
  },
  {
   "cell_type": "code",
   "execution_count": 3,
   "id": "3f574463",
   "metadata": {},
   "outputs": [
    {
     "data": {
      "text/plain": [
       "appid               0\n",
       "name                0\n",
       "release_date        0\n",
       "english             0\n",
       "developer           0\n",
       "publisher           0\n",
       "platforms           0\n",
       "required_age        0\n",
       "categories          0\n",
       "genres              0\n",
       "steamspy_tags       0\n",
       "achievements        0\n",
       "positive_ratings    0\n",
       "negative_ratings    0\n",
       "average_playtime    0\n",
       "median_playtime     0\n",
       "owners              0\n",
       "price               0\n",
       "dtype: int64"
      ]
     },
     "execution_count": 3,
     "metadata": {},
     "output_type": "execute_result"
    }
   ],
   "source": [
    "# The database has been cleaned before hand and has no null values\n",
    "\n",
    "prime.isna().sum()"
   ]
  },
  {
   "cell_type": "code",
   "execution_count": 4,
   "id": "51480cba",
   "metadata": {},
   "outputs": [],
   "source": [
    "# Reading csv file with features - Appid, Tags\n",
    "\n",
    "tags = pd.read_csv(\"../DATA/steamspy_tag_data.csv\")"
   ]
  },
  {
   "cell_type": "code",
   "execution_count": 5,
   "id": "bc3853ff",
   "metadata": {},
   "outputs": [
    {
     "data": {
      "text/plain": [
       "appid           0\n",
       "1980s           0\n",
       "1990s           0\n",
       "2.5d            0\n",
       "2d              0\n",
       "               ..\n",
       "world_war_i     0\n",
       "world_war_ii    0\n",
       "wrestling       0\n",
       "zombies         0\n",
       "e_sports        0\n",
       "Length: 372, dtype: int64"
      ]
     },
     "execution_count": 5,
     "metadata": {},
     "output_type": "execute_result"
    }
   ],
   "source": [
    "# The database has been cleaned before hand and has no null values\n",
    "\n",
    "tags.isna().sum()"
   ]
  },
  {
   "cell_type": "code",
   "execution_count": 6,
   "id": "9ffc96ec",
   "metadata": {},
   "outputs": [],
   "source": [
    "# Splitting the data into strings for encoding\n",
    "\n",
    "cats = prime['categories'].str.split(';')\n",
    "gens = prime['genres'].str.split(';')\n",
    "devs = prime['developer'].str.split(';')\n",
    "pubs = prime['publisher'].str.split(';')"
   ]
  },
  {
   "cell_type": "code",
   "execution_count": 7,
   "id": "d0b663b4",
   "metadata": {},
   "outputs": [],
   "source": [
    "from sklearn.preprocessing import MultiLabelBinarizer\n",
    "mlb = MultiLabelBinarizer()"
   ]
  },
  {
   "cell_type": "code",
   "execution_count": 8,
   "id": "de65e427",
   "metadata": {},
   "outputs": [],
   "source": [
    "# Using MultiLabel Binarizer for One Hot Encoding\n",
    "\n",
    "cats = pd.DataFrame(mlb.fit_transform(cats)) #Categories\n",
    "gens = pd.DataFrame(mlb.fit_transform(gens)) #Genres\n",
    "devs = pd.DataFrame(mlb.fit_transform(devs)) #Devs\n",
    "pubs = pd.DataFrame(mlb.fit_transform(pubs)) #Publishers"
   ]
  },
  {
   "cell_type": "code",
   "execution_count": 9,
   "id": "00b268af",
   "metadata": {},
   "outputs": [],
   "source": [
    "tagsf = tags.drop('appid', axis = 1) #Tags"
   ]
  },
  {
   "cell_type": "code",
   "execution_count": 10,
   "id": "607a6180",
   "metadata": {},
   "outputs": [],
   "source": [
    "# Obtaining year from date\n",
    "\n",
    "year = prime['release_date'].str.split('-').apply(pd.Series)[0]"
   ]
  },
  {
   "cell_type": "code",
   "execution_count": 11,
   "id": "f50b1aea",
   "metadata": {},
   "outputs": [],
   "source": [
    "# Considering games with mean owners > 10,000\n",
    "\n",
    "own = prime['owners'].str.split('-').apply(pd.Series)\n",
    "own = own.apply(pd.to_numeric)\n",
    "own = np.mean(own, axis = 1)\n",
    "own.columns = ['mean']"
   ]
  },
  {
   "cell_type": "code",
   "execution_count": 12,
   "id": "0494c1f6",
   "metadata": {},
   "outputs": [],
   "source": [
    "st = pd.DataFrame({'name':prime.name, 'own':own})"
   ]
  },
  {
   "cell_type": "code",
   "execution_count": 13,
   "id": "3261d55d",
   "metadata": {},
   "outputs": [],
   "source": [
    "names = st[st.own > 10000].name"
   ]
  },
  {
   "cell_type": "code",
   "execution_count": 14,
   "id": "07bacf43",
   "metadata": {},
   "outputs": [],
   "source": [
    "from sklearn.metrics.pairwise import cosine_similarity as cs"
   ]
  },
  {
   "cell_type": "code",
   "execution_count": 15,
   "id": "84ebd9c8",
   "metadata": {},
   "outputs": [],
   "source": [
    "# Using cosine similarity to find games with closest features\n",
    "\n",
    "def Similarity(game1, game2):\n",
    "    \n",
    "    ind1 = prime[prime.name == game1].index[0]\n",
    "    ind2 = prime[prime.name == game2].index[0]\n",
    "    \n",
    "    a1 = tagsf.iloc[ind1].values.reshape(1, -1)\n",
    "    b1 = tagsf.iloc[ind2].values.reshape(1, -1)\n",
    "    score1 = cs(a1, b1) #Tags\n",
    "    \n",
    "    a2 = cats.iloc[ind1].values.reshape(1, -1)\n",
    "    b2 = cats.iloc[ind2].values.reshape(1, -1)\n",
    "    score2 = cs(a2, b2) #Categories\n",
    "    \n",
    "    a3 = gens.iloc[ind1].values.reshape(1, -1)\n",
    "    b3 = gens.iloc[ind2].values.reshape(1, -1)\n",
    "    score3 = cs(a3, b3) #Genres\n",
    "    \n",
    "    a4 = devs.iloc[ind1].values.reshape(1, -1)\n",
    "    b4 = devs.iloc[ind2].values.reshape(1, -1)\n",
    "    score4 = cs(a4, b4) #Developers\n",
    "    \n",
    "    a5 = pubs.iloc[ind1].values.reshape(1, -1)\n",
    "    b5 = pubs.iloc[ind2].values.reshape(1, -1)\n",
    "    score5 = cs(a5, b5) #Publishers\n",
    "    \n",
    "    # Multiplying each score with a value depending on importance (chosen arbitrarily)\n",
    "    return (10*score1 + 5*score2 + 7.5*score3 + 5*score4 + 2.5*score5)/30"
   ]
  },
  {
   "cell_type": "code",
   "execution_count": 16,
   "id": "b9fe906b",
   "metadata": {},
   "outputs": [],
   "source": [
    "import operator"
   ]
  },
  {
   "cell_type": "code",
   "execution_count": 17,
   "id": "595fde7b",
   "metadata": {},
   "outputs": [],
   "source": [
    "# Using cosine similarity to find games with closest features\n",
    "\n",
    "def predict():\n",
    "    text = input('Enter a game title : ')\n",
    "    print(\"Games that match in database: \")\n",
    "    game = prime[prime['name'].str.contains(text)]['name']\n",
    "    print(game.to_string(index = False))\n",
    "    new = input('Enter the game : ')\n",
    "    print('Selected game : ', new)\n",
    "    \n",
    "    sims = []\n",
    "    \n",
    "    for i in names:\n",
    "        if i != new:\n",
    "            dist = Similarity(new, i)[0][0]\n",
    "            sims.append((i, dist))\n",
    "    \n",
    "    sims.sort(key=operator.itemgetter(1), reverse = True)\n",
    "    \n",
    "    return sims[:10]"
   ]
  },
  {
   "cell_type": "code",
   "execution_count": 18,
   "id": "a5249375",
   "metadata": {},
   "outputs": [
    {
     "name": "stdout",
     "output_type": "stream",
     "text": [
      "Enter a game title : Counter-Strike\n",
      "Games that match in database: \n",
      "                  Counter-Strike\n",
      "  Counter-Strike: Condition Zero\n",
      "          Counter-Strike: Source\n",
      "Counter-Strike: Global Offensive\n",
      "   Counter-Strike Nexon: Zombies\n",
      "Enter the game : Counter-Strike: Global Offensive\n",
      "Selected game :  Counter-Strike: Global Offensive\n"
     ]
    },
    {
     "data": {
      "text/plain": [
       "[('Team Fortress 2', 0.7868367712364619),\n",
       " ('Counter-Strike: Source', 0.778155172500101),\n",
       " ('Day of Defeat: Source', 0.7395063367131635),\n",
       " ('Counter-Strike: Condition Zero', 0.7248721395324492),\n",
       " ('Counter-Strike', 0.7167997167102086),\n",
       " ('Day of Defeat', 0.7042400938515111),\n",
       " ('Half-Life 2: Deathmatch', 0.6952429304712673),\n",
       " ('Left 4 Dead 2', 0.6950004981825599),\n",
       " ('Half-Life Deathmatch: Source', 0.6940970613741658),\n",
       " ('Team Fortress Classic', 0.6861884852288639)]"
      ]
     },
     "execution_count": 18,
     "metadata": {},
     "output_type": "execute_result"
    }
   ],
   "source": [
    "predict()"
   ]
  },
  {
   "cell_type": "code",
   "execution_count": 19,
   "id": "98614d81",
   "metadata": {},
   "outputs": [
    {
     "name": "stdout",
     "output_type": "stream",
     "text": [
      "Enter a game title : Grand Theft Auto\n",
      "Games that match in database: \n",
      "                        Grand Theft Auto III\n",
      "                 Grand Theft Auto: Vice City\n",
      "               Grand Theft Auto: San Andreas\n",
      "                            Grand Theft Auto\n",
      "                          Grand Theft Auto 2\n",
      "                         Grand Theft Auto IV\n",
      "Grand Theft Auto: Episodes from Liberty City\n",
      "                          Grand Theft Auto V\n",
      "Enter the game : Grand Theft Auto: San Andreas\n",
      "Selected game :  Grand Theft Auto: San Andreas\n"
     ]
    },
    {
     "data": {
      "text/plain": [
       "[('Grand Theft Auto: Vice City', 0.7357589653104039),\n",
       " ('Max Payne 2: The Fall of Max Payne', 0.7333415107812489),\n",
       " ('Half-Life: Blue Shift', 0.6847258860472657),\n",
       " ('Half-Life: Source', 0.6746247955111944),\n",
       " ('Grand Theft Auto III', 0.6632664456366444),\n",
       " ('Call of Duty: United Offensive', 0.6481993376850743),\n",
       " (\"Tom Clancy's Rainbow Six® 3 Gold\", 0.6397891462676494),\n",
       " ('Ultimate Doom', 0.6392875731650906),\n",
       " ('Half-Life 2: Lost Coast', 0.6377978193680611),\n",
       " ('Grand Theft Auto', 0.6345243310289337)]"
      ]
     },
     "execution_count": 19,
     "metadata": {},
     "output_type": "execute_result"
    }
   ],
   "source": [
    "predict()"
   ]
  },
  {
   "cell_type": "code",
   "execution_count": 20,
   "id": "791d7738",
   "metadata": {},
   "outputs": [
    {
     "name": "stdout",
     "output_type": "stream",
     "text": [
      "Enter a game title : Hotline Miami\n",
      "Games that match in database: \n",
      "                Hotline Miami\n",
      "Hotline Miami 2: Wrong Number\n",
      "Enter the game : Hotline Miami 2: Wrong Number\n",
      "Selected game :  Hotline Miami 2: Wrong Number\n"
     ]
    },
    {
     "data": {
      "text/plain": [
       "[('RUINER', 0.6843389701100918),\n",
       " ('Disastr_Blastr', 0.659673599738897),\n",
       " ('Red Game Without A Great Name', 0.6477818075876812),\n",
       " ('Daedalus - No Escape', 0.6443008907726375),\n",
       " ('Visitors', 0.6434853460477419),\n",
       " ('HitBox', 0.6433748610186377),\n",
       " ('Bullshot', 0.6359348493936086),\n",
       " ('Hotline Miami', 0.6358444214915816),\n",
       " ('Katana ZERO', 0.6348377853324283),\n",
       " ('Ellipsis', 0.6335969604531034)]"
      ]
     },
     "execution_count": 20,
     "metadata": {},
     "output_type": "execute_result"
    }
   ],
   "source": [
    "predict()"
   ]
  },
  {
   "cell_type": "code",
   "execution_count": 21,
   "id": "3df1e806",
   "metadata": {},
   "outputs": [
    {
     "name": "stdout",
     "output_type": "stream",
     "text": [
      "Enter a game title : Sleeping Dogs\n",
      "Games that match in database: \n",
      "Sleeping Dogs: Definitive Edition\n",
      "Enter the game : Sleeping Dogs: Definitive Edition\n",
      "Selected game :  Sleeping Dogs: Definitive Edition\n"
     ]
    },
    {
     "data": {
      "text/plain": [
       "[('Life is Strange: Before the Storm', 0.6058569040484315),\n",
       " ('Spirits of Xanadu', 0.6038657522696406),\n",
       " ('Resident Evil 6 / Biohazard 6', 0.6031368099953286),\n",
       " ('The LEGO® Movie - Videogame', 0.5962080199362043),\n",
       " ('LEGO® Jurassic World', 0.5799315809292589),\n",
       " ('Mega Man Legacy Collection 2 / ロックマン クラシックス コレクション 2', 0.5780984653467898),\n",
       " ('Insecticide Part 1', 0.5774534799994158),\n",
       " ('Spaceport Hope', 0.5757674567795924),\n",
       " ('NARUTO SHIPPUDEN: Ultimate Ninja STORM 4', 0.5567201119537109),\n",
       " ('Shutshimi', 0.5534459170136924)]"
      ]
     },
     "execution_count": 21,
     "metadata": {},
     "output_type": "execute_result"
    }
   ],
   "source": [
    "predict()"
   ]
  },
  {
   "cell_type": "code",
   "execution_count": 22,
   "id": "c06c8a14",
   "metadata": {},
   "outputs": [
    {
     "name": "stdout",
     "output_type": "stream",
     "text": [
      "Enter a game title : Batman\n",
      "Games that match in database: \n",
      "                      LEGO® Batman™: The Videogame\n",
      "    Batman: Arkham Asylum Game of the Year Edition\n",
      "    Batman: Arkham City - Game of the Year Edition\n",
      "                            Batman™: Arkham Knight\n",
      "                           Batman™: Arkham Origins\n",
      "                  LEGO® Batman™ 2: DC Super Heroes\n",
      "Batman™: Arkham Origins Blackgate - Deluxe Edition\n",
      "                    LEGO® Batman™ 3: Beyond Gotham\n",
      "                      Batman - The Telltale Series\n",
      "                                Batman™: Arkham VR\n",
      "    Batman: The Enemy Within - The Telltale Series\n",
      "Enter the game : Batman: Arkham City - Game of the Year Edition\n",
      "Selected game :  Batman: Arkham City - Game of the Year Edition\n"
     ]
    },
    {
     "data": {
      "text/plain": [
       "[('Batman: Arkham Asylum Game of the Year Edition', 0.6666666666666665),\n",
       " ('Life is Strange: Before the Storm', 0.6349127452820155),\n",
       " ('LEGO® Jurassic World', 0.6315894325021372),\n",
       " ('Mad Max', 0.6284674208099924),\n",
       " ('Disney Epic Mickey 2:  The Power of Two', 0.6258782020493653),\n",
       " ('Thief', 0.6087852752813592),\n",
       " ('The LEGO® Movie - Videogame', 0.5805690111248356),\n",
       " ('LEGO® Star Wars™ - The Complete Saga', 0.578694089242577),\n",
       " ('Batman™: Arkham Knight', 0.5783348996486836),\n",
       " ('Hitman: Absolution™', 0.577935791788991)]"
      ]
     },
     "execution_count": 22,
     "metadata": {},
     "output_type": "execute_result"
    }
   ],
   "source": [
    "predict()"
   ]
  }
 ],
 "metadata": {
  "kernelspec": {
   "display_name": "Python 3 (ipykernel)",
   "language": "python",
   "name": "python3"
  },
  "language_info": {
   "codemirror_mode": {
    "name": "ipython",
    "version": 3
   },
   "file_extension": ".py",
   "mimetype": "text/x-python",
   "name": "python",
   "nbconvert_exporter": "python",
   "pygments_lexer": "ipython3",
   "version": "3.9.13"
  }
 },
 "nbformat": 4,
 "nbformat_minor": 5
}
