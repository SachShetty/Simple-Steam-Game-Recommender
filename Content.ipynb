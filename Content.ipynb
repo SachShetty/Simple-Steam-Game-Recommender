{
 "cells": [
  {
   "cell_type": "code",
   "execution_count": 40,
   "id": "8ebd9611",
   "metadata": {},
   "outputs": [],
   "source": [
    "import pandas as pd\n",
    "import numpy as np"
   ]
  },
  {
   "cell_type": "code",
   "execution_count": 41,
   "id": "160d2b9a",
   "metadata": {},
   "outputs": [],
   "source": [
    "prime = pd.read_csv(\"../DATA/steam.csv\")"
   ]
  },
  {
   "cell_type": "code",
   "execution_count": 42,
   "id": "51480cba",
   "metadata": {},
   "outputs": [],
   "source": [
    "tags = pd.read_csv(\"../DATA/steamspy_tag_data.csv\")"
   ]
  },
  {
   "cell_type": "code",
   "execution_count": 43,
   "id": "9ffc96ec",
   "metadata": {},
   "outputs": [],
   "source": [
    "cats = prime['categories'].str.split(';')\n",
    "gens = prime['genres'].str.split(';')\n",
    "devs = prime['developer'].str.split(';')\n",
    "pubs = prime['publisher'].str.split(';')"
   ]
  },
  {
   "cell_type": "code",
   "execution_count": 44,
   "id": "d0b663b4",
   "metadata": {},
   "outputs": [],
   "source": [
    "from sklearn.preprocessing import MultiLabelBinarizer\n",
    "mlb = MultiLabelBinarizer()"
   ]
  },
  {
   "cell_type": "code",
   "execution_count": 45,
   "id": "de65e427",
   "metadata": {},
   "outputs": [],
   "source": [
    "cats = pd.DataFrame(mlb.fit_transform(cats)) #Categories\n",
    "gens = pd.DataFrame(mlb.fit_transform(gens)) #Genres\n",
    "devs = pd.DataFrame(mlb.fit_transform(devs)) #Devs\n",
    "pubs = pd.DataFrame(mlb.fit_transform(pubs)) #Publishers"
   ]
  },
  {
   "cell_type": "code",
   "execution_count": null,
   "id": "00b268af",
   "metadata": {},
   "outputs": [],
   "source": [
    "tagsf = tags.drop('appid', axis = 1) #Tags"
   ]
  },
  {
   "cell_type": "code",
   "execution_count": 46,
   "id": "607a6180",
   "metadata": {},
   "outputs": [],
   "source": [
    "year = prime['release_date'].str.split('-').apply(pd.Series)[0]"
   ]
  },
  {
   "cell_type": "code",
   "execution_count": 47,
   "id": "f50b1aea",
   "metadata": {},
   "outputs": [],
   "source": [
    "own = prime['owners'].str.split('-').apply(pd.Series)\n",
    "own = own.apply(pd.to_numeric)\n",
    "own = np.mean(own, axis = 1)\n",
    "own.columns = ['mean']"
   ]
  },
  {
   "cell_type": "code",
   "execution_count": 48,
   "id": "0494c1f6",
   "metadata": {},
   "outputs": [],
   "source": [
    "st = pd.DataFrame({'name':prime.name, 'own':own})"
   ]
  },
  {
   "cell_type": "code",
   "execution_count": 49,
   "id": "3261d55d",
   "metadata": {},
   "outputs": [],
   "source": [
    "names = st[st.own > 10000].name"
   ]
  },
  {
   "cell_type": "code",
   "execution_count": 52,
   "id": "07bacf43",
   "metadata": {},
   "outputs": [],
   "source": [
    "from sklearn.metrics.pairwise import cosine_similarity as cs"
   ]
  },
  {
   "cell_type": "code",
   "execution_count": 53,
   "id": "84ebd9c8",
   "metadata": {},
   "outputs": [],
   "source": [
    "def Similarity(game1, game2):\n",
    "    \n",
    "    ind1 = prime[prime.name == game1].index[0]\n",
    "    ind2 = prime[prime.name == game2].index[0]\n",
    "    \n",
    "    a1 = tagsf.iloc[ind1].values.reshape(1, -1)\n",
    "    b1 = tagsf.iloc[ind2].values.reshape(1, -1)\n",
    "    score1 = cs(a1, b1) #Tags\n",
    "    \n",
    "    a2 = cats.iloc[ind1].values.reshape(1, -1)\n",
    "    b2 = cats.iloc[ind2].values.reshape(1, -1)\n",
    "    score2 = cs(a2, b2) #Categories\n",
    "    \n",
    "    a3 = gens.iloc[ind1].values.reshape(1, -1)\n",
    "    b3 = gens.iloc[ind2].values.reshape(1, -1)\n",
    "    score3 = cs(a3, b3) #Genres\n",
    "    \n",
    "    a4 = devs.iloc[ind1].values.reshape(1, -1)\n",
    "    b4 = devs.iloc[ind2].values.reshape(1, -1)\n",
    "    score4 = cs(a4, b4) #Developers\n",
    "    \n",
    "    a5 = pubs.iloc[ind1].values.reshape(1, -1)\n",
    "    b5 = pubs.iloc[ind2].values.reshape(1, -1)\n",
    "    score5 = cs(a5, b5) #Publishers\n",
    "        \n",
    "    return (10*score1 + 6.125*score2 + 6.125*score3 + 10*score4 + 2.5*score5)"
   ]
  },
  {
   "cell_type": "code",
   "execution_count": 55,
   "id": "b9fe906b",
   "metadata": {},
   "outputs": [],
   "source": [
    "import operator"
   ]
  },
  {
   "cell_type": "code",
   "execution_count": 56,
   "id": "595fde7b",
   "metadata": {},
   "outputs": [],
   "source": [
    "def predict():\n",
    "    text = input('Enter a game title : ')\n",
    "    print(\"Games that match : \")\n",
    "    game = prime[prime['name'].str.contains(text)]['name']\n",
    "    print(game.to_string(index = False))\n",
    "    new = input('Enter the game : ')\n",
    "    print('Selected game : ', new)\n",
    "    \n",
    "    sims = []\n",
    "    \n",
    "    for i in names:\n",
    "        if i != new:\n",
    "            dist = Similarity(new, i)[0][0]\n",
    "            sims.append((i, dist))\n",
    "    \n",
    "    sims.sort(key=operator.itemgetter(1), reverse = True)\n",
    "    \n",
    "    return sims[:10]"
   ]
  },
  {
   "cell_type": "code",
   "execution_count": 57,
   "id": "b0774be8",
   "metadata": {},
   "outputs": [
    {
     "name": "stdout",
     "output_type": "stream",
     "text": [
      "Enter a game title : Counter\n",
      "Games that match : \n",
      "                      Counter-Strike\n",
      "      Counter-Strike: Condition Zero\n",
      "              Counter-Strike: Source\n",
      "    Counter-Strike: Global Offensive\n",
      "       Counter-Strike Nexon: Zombies\n",
      "                       Counter Spell\n",
      "         CTU: Counter Terrorism Unit\n",
      "                       CounterAttack\n",
      "                      Counter Agents\n",
      "                       Counter Fight\n",
      "      Counter Fight: Samurai Edition\n",
      "                       Graze Counter\n",
      "        Special Counter Force Attack\n",
      "祭品的逆襲 The Counterattack Of Sacrifice\n",
      "                     Counter Fight 3\n",
      "Enter the game : Counter-Strike: Global Offensive\n",
      "Selected game :  Counter-Strike: Global Offensive\n"
     ]
    },
    {
     "data": {
      "text/plain": [
       "[('Team Fortress 2', 26.569375864877323),\n",
       " ('Counter-Strike: Source', 26.509255051107218),\n",
       " ('Day of Defeat: Source', 25.500124426074834),\n",
       " ('Counter-Strike: Condition Zero', 24.768705594546557),\n",
       " ('Counter-Strike', 24.465001147524923),\n",
       " ('Day of Defeat', 24.252964897346565),\n",
       " ('Left 4 Dead 2', 24.18548430938463),\n",
       " ('Half-Life Deathmatch: Source', 23.94867392302621),\n",
       " ('Half-Life 2: Deathmatch', 23.8798293227111),\n",
       " ('Team Fortress Classic', 23.546664203084582)]"
      ]
     },
     "execution_count": 57,
     "metadata": {},
     "output_type": "execute_result"
    }
   ],
   "source": [
    "predict()"
   ]
  }
 ],
 "metadata": {
  "kernelspec": {
   "display_name": "Python 3 (ipykernel)",
   "language": "python",
   "name": "python3"
  },
  "language_info": {
   "codemirror_mode": {
    "name": "ipython",
    "version": 3
   },
   "file_extension": ".py",
   "mimetype": "text/x-python",
   "name": "python",
   "nbconvert_exporter": "python",
   "pygments_lexer": "ipython3",
   "version": "3.9.13"
  }
 },
 "nbformat": 4,
 "nbformat_minor": 5
}
